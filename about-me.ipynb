![logo_ironhack_blue 7](https://user-images.githubusercontent.com/23629340/40541063-a07a0a8a-601a-11e8-91b5-2f13e4e6b441.png)

# Lab | Git Practice: About Me - Ivan Prieto

## Ivan Prieto

Hello, My name is Ivan Prieto. Born and rised in Barcelona in 1991. 
I studied Marketing and I am currently part of the IAG Group as Porcurement Lead Analyst.
I just joined Ironhack, and I am taking my first steps into GitHub.

